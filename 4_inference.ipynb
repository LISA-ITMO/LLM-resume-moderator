{
 "cells": [
  {
   "cell_type": "code",
   "execution_count": 159,
   "metadata": {},
   "outputs": [],
   "source": [
    "from openai import OpenAI\n",
    "from dotenv import load_dotenv\n",
    "\n",
    "import json\n",
    "import os\n",
    "import pandas as pd\n",
    "from tqdm import tqdm\n",
    "import re\n",
    "from typing import Dict\n",
    "\n",
    "tqdm.pandas()"
   ]
  },
  {
   "cell_type": "code",
   "execution_count": 160,
   "metadata": {},
   "outputs": [],
   "source": [
    "load_dotenv()\n",
    "\n",
    "INFERENCE_MODEL = 'meta-llama/Meta-Llama-3.1-8B-Instruct'\n",
    "DEEPINFRA_TOKEN = os.environ.get('DEEPINFRA_API_TOKEN')"
   ]
  },
  {
   "cell_type": "code",
   "execution_count": 161,
   "metadata": {},
   "outputs": [],
   "source": [
    "rools = '\\n'.join(map(str, json.load(open('data/resume_rools.json'))))"
   ]
  },
  {
   "cell_type": "code",
   "execution_count": 162,
   "metadata": {},
   "outputs": [],
   "source": [
    "prompt = \"\"\"\n",
    "Ты — ИИ-модератор резюме. Проверь текст резюме на соответствие следующим правилам. Если есть нарушения, верни JSON-объект с типом нарушения и фрагментом текста, который нарушает правило. Если нарушений нет, верни статус \"OK\".\n",
    "\n",
    "**Правила:** \n",
    "{rools}\n",
    "\n",
    "**Инструкции:**\n",
    "\n",
    "- Тщательно проанализируй каждое предложение в резюме.\n",
    "- Если нарушений нет, верни \"status\": \"OK\" и пустой массив violated_rules.\n",
    "- Если фрагмент нарушает правило, укажи его точную цитату в resume_fragment.\n",
    "- Ответ должен содержать твои рассуждения по каждому правилу оканчивающийся вердиктом, затем должен быть результат в формате JSON, без Markdown и комментариев.\n",
    "\n",
    "Формат ответа: Рассуждения, Результат: { \"status\": \"OK\" | \"violation\", \"violated_rules\": [] | [ { \"id\": \"rule_id\", \"condition\": \"Текст условия правила на русском\", \"resume_fragment\": \"Точная цитата из резюме\" } ] }\n",
    "\n",
    "**Текст резюме:**\n",
    "{resume_text}\n",
    "\"\"\""
   ]
  },
  {
   "cell_type": "code",
   "execution_count": 163,
   "metadata": {},
   "outputs": [
    {
     "name": "stdout",
     "output_type": "stream",
     "text": [
      "\n",
      "Ты — ИИ-модератор резюме. Проверь текст резюме на соответствие следующим правилам. Если есть нарушения, верни JSON-объект с типом нарушения и фрагментом текста, который нарушает правило. Если нарушений нет, верни статус \"OK\".\n",
      "\n",
      "**Правила:** \n",
      "{'id': 'rule_1', 'condition': 'Резюме должно содержать информацию о трудовой деятельности, однако оно может не содержать, если желаемая должность не требует опыта'}\n",
      "{'id': 'rule_2', 'condition': 'Резюме должно содержать профессию/должность или должности, на которые претендует соискатель, должность должжна быть реальной профессией'}\n",
      "{'id': 'rule_4', 'condition': 'Резюме должно быть заполнено на русском языке'}\n",
      "{'id': 'rule_5', 'condition': 'Информация о работодателе не должна содержать сведений, не относящихся к работодателю, если работодатель ИП это не нарушение правил'}\n",
      "{'id': 'rule_6', 'condition': 'Информация о резюме не должна содержать сведений, не относящихся к соискателю'}\n",
      "{'id': 'rule_7', 'condition': 'Информация не должна содержать слова и выражения, не соответствующие нормам современного русского литературного языка, допустимы стилистические неточности, но главное чтобы не было матов и токсичности'}\n",
      "\n",
      "**Инструкции:**\n",
      "\n",
      "- Тщательно проанализируй каждое предложение в резюме.\n",
      "- Если нарушений нет, верни \"status\": \"OK\" и пустой массив violated_rules.\n",
      "- Если фрагмент нарушает правило, укажи его точную цитату в resume_fragment.\n",
      "- Ответ должен содержать твои рассуждения по каждому правилу оканчивающийся вердиктом, затем должен быть результат в формате JSON, без Markdown и комментариев.\n",
      "\n",
      "Формат ответа: Рассуждения, Результат: { \"status\": \"OK\" | \"violation\", \"violated_rules\": [] | [ { \"id\": \"rule_id\", \"condition\": \"Текст условия правила на русском\", \"resume_fragment\": \"Точная цитата из резюме\" } ] }\n",
      "\n",
      "**Текст резюме:**\n",
      "{resume_text}\n",
      "\n"
     ]
    }
   ],
   "source": [
    "print(prompt.replace('{rools}', rools))"
   ]
  },
  {
   "cell_type": "code",
   "execution_count": 164,
   "metadata": {},
   "outputs": [],
   "source": [
    "def process_answer(text: str) -> Dict[str, str]:\n",
    "    result_match = re.search(r'Результат:\\s*(.*)', text, re.DOTALL)\n",
    "    if result_match:\n",
    "        result = json.loads(result_match.group(1).strip())\n",
    "    else:\n",
    "        result = None\n",
    "\n",
    "    discussion_match = re.search(r'Рассуждения:\\s*(.*?)\\s*\\n\\nРезультат:', text, re.DOTALL)\n",
    "\n",
    "    if discussion_match:\n",
    "        discussion_text = discussion_match.group(1).strip()\n",
    "    else:\n",
    "        discussion_text = None\n",
    "    \n",
    "    return {'reasoning': discussion_text, 'result': result}"
   ]
  },
  {
   "cell_type": "code",
   "execution_count": 165,
   "metadata": {},
   "outputs": [],
   "source": [
    "import requests\n",
    "from typing import Dict\n",
    "\n",
    "def get_answer(resume_text: str) -> Dict[str, str]:\n",
    "    url = \"https://api.deepinfra.com/v1/openai/chat/completions\"\n",
    "    headers = {\n",
    "        \"Content-Type\": \"application/json\",\n",
    "        \"Authorization\": f\"Bearer {DEEPINFRA_TOKEN}\"\n",
    "    }\n",
    "    \n",
    "    formatted_prompt = prompt.replace('{rools}', rools).replace('{resume_text}', resume_text)\n",
    "    \n",
    "    data = {\n",
    "        \"model\": INFERENCE_MODEL,\n",
    "        \"messages\": [\n",
    "            {\n",
    "                \"role\": \"user\",\n",
    "                \"content\": formatted_prompt\n",
    "            }\n",
    "        ],\n",
    "        \"temperature\": 0,\n",
    "        \"seed\": 42\n",
    "    }\n",
    "    \n",
    "    response = requests.post(url, json=data, headers=headers)\n",
    "    response.raise_for_status()\n",
    "    \n",
    "    answer_content = response.json()['choices'][0]['message']['content']\n",
    "    \n",
    "    return process_answer(answer_content)"
   ]
  },
  {
   "cell_type": "code",
   "execution_count": 166,
   "metadata": {},
   "outputs": [],
   "source": [
    "df = pd.read_csv('./data/processed_resume.csv')"
   ]
  },
  {
   "cell_type": "code",
   "execution_count": null,
   "metadata": {},
   "outputs": [
    {
     "name": "stderr",
     "output_type": "stream",
     "text": [
      "  2%|▏         | 20/905 [03:06<2:29:47, 10.15s/it]"
     ]
    }
   ],
   "source": [
    "llama_answers = df['text_data'].progress_apply(get_answer).tolist()"
   ]
  },
  {
   "cell_type": "code",
   "execution_count": null,
   "metadata": {},
   "outputs": [
    {
     "data": {
      "text/plain": [
       "{'reasoning': '- Правило rule_1: Резюме содержит информацию о трудовой деятельности, поэтому правило не нарушено.\\n- Правило rule_2: Резюме содержит профессию/должность, на которую претендует соискатель, поэтому правило не нарушено.\\n- Правило rule_4: Резюме заполнено на русском языке, поэтому правило не нарушено.\\n- Правило rule_5: Информация о работодателе не содержит сведений, не относящихся к работодателю, поэтому правило не нарушено.\\n- Правило rule_6: Информация о резюме не содержит сведений, не относящихся к соискателю, поэтому правило не нарушено.\\n- Правило rule_7: Информация не содержит слова и выражения, не соответствующие нормам современного русского литературного языка, поэтому правило не нарушено.',\n",
       " 'result': {'status': 'OK', 'violated_rules': []}}"
      ]
     },
     "execution_count": 72,
     "metadata": {},
     "output_type": "execute_result"
    }
   ],
   "source": [
    "df['llama_answers'] = llama_answers"
   ]
  }
 ],
 "metadata": {
  "kernelspec": {
   "display_name": "base",
   "language": "python",
   "name": "python3"
  },
  "language_info": {
   "codemirror_mode": {
    "name": "ipython",
    "version": 3
   },
   "file_extension": ".py",
   "mimetype": "text/x-python",
   "name": "python",
   "nbconvert_exporter": "python",
   "pygments_lexer": "ipython3",
   "version": "3.12.8"
  }
 },
 "nbformat": 4,
 "nbformat_minor": 2
}
